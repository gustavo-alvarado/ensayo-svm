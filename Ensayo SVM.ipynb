{
 "cells": [
  {
   "cell_type": "markdown",
   "metadata": {},
   "source": [
    "# Ensayo - SVM\n",
    "\n",
    "Gustavo Alvarado. Carnet # 20063401"
   ]
  },
  {
   "cell_type": "markdown",
   "metadata": {},
   "source": [
    "## *Support Vector Machine* - SVM\n",
    "\n",
    "SVM es un conjunto de algoritmos de aprendizaje automático que pueden resolver problemas de clasificación y de regresión. En terminos generales, se diferencia de otros algoritmos de clasificación como *logistic regression* en que SVM no busca una única línea que defina la \"frontera\" entre una clase y otra, sino que busca un espacio dividido por dos líneas que definan el mejor margen de separación. Estas dos líneas paralelas están definidas por el denominado **hiperplano**. En la figura siguiente se muestra cómo el hiperplano divide a las dos clases con el margen mencionado:"
   ]
  },
  {
   "cell_type": "markdown",
   "metadata": {},
   "source": [
    "<img src = \"https://miro.medium.com/max/1088/1*6U9NrruycDBsPOyivpn8UQ.png\" width=\"350px\">"
   ]
  },
  {
   "cell_type": "markdown",
   "metadata": {},
   "source": [
    "Dentro de las ventajas de SVM se puede mencionar que funciona adecuadamente para datos linealmente separables. Para datos no linealmente separables, al igual que con otros algoritmos, es posible transformar los datos buscando acecarse al patrón lineal. SVM también puede manejar adecuadamente múltiples dimensiones y provee una predicción eficiente ya que usa un subconjunto de datos maximizando la distancia entre los puntos más cercanos entre las dos clases. Otra gran ventaja es que el algoritmo se adapta a los datos de mejor forma que otros algoritmos. \n",
    "\n",
    "Como desventajas se puede mencionar que si el *dataset* es muy grande, el tiempo de entrenamiento es alto. De igual forma, si hay datos dispersos, normalmente esto serán discriminados.\n",
    "\n",
    "Referencia: https://youtu.be/v1bBKtMPwt0?t=484"
   ]
  },
  {
   "cell_type": "markdown",
   "metadata": {},
   "source": [
    "Para poder manejar distintos patrones en los datos en cualquier dimensión, SVM maneja las funciones **kernel**, las cuales pueden ser lineales, polinomiales, *sigmoid* o *gaussiano*. Cado tipo se basa en un modelo matemático determinado y permite la flexibilidad de manejar y experimentar con cualquiera de estas funciones con cualquier *dataset*.\n",
    "\n",
    "Referencia: https://youtu.be/01hse_MOx0g?t=307"
   ]
  },
  {
   "cell_type": "markdown",
   "metadata": {},
   "source": [
    "La función de hipótesis de SVM no genera resultados probabilísticos, simplemente establece una clasificación binaria definida de la siguiente forma: \n",
    "\n",
    "$\\hat{y} = \\left\\{\\begin{matrix}\n",
    "0 & w^{T} \\cdot x + b < 0 \\\\ \n",
    "1 & w^{T} \\cdot x + b \\geq  0 \\\\ \n",
    "\\end{matrix}\\right.$\n",
    "\n",
    "La función de costo se define de la siguiente forma, e incluye un hiperparámetro **c** similar a **lambda** en regresión lineal: \n",
    "\n",
    "<img src=\"https://cdn-images-1.medium.com/max/1024/1*h5QqCdm48pt84bazOPvExA.png\" />\n",
    " \n",
    "https://youtu.be/geI6lM5iOl0?t=366"
   ]
  },
  {
   "cell_type": "markdown",
   "metadata": {},
   "source": [
    "A continuación se muestra un ejemplo de la implementación de SVM en Tensorflow, utilizando el conocido dataset de *iris setosa* para clasificar la especie de esta flor.\n",
    "\n",
    "https://medium.com/cs-note/tensorflow-ch4-support-vector-machines-c9ad18878c76"
   ]
  }
 ],
 "metadata": {
  "kernelspec": {
   "display_name": "Python 3",
   "language": "python",
   "name": "python3"
  },
  "language_info": {
   "codemirror_mode": {
    "name": "ipython",
    "version": 3
   },
   "file_extension": ".py",
   "mimetype": "text/x-python",
   "name": "python",
   "nbconvert_exporter": "python",
   "pygments_lexer": "ipython3",
   "version": "3.7.4"
  }
 },
 "nbformat": 4,
 "nbformat_minor": 2
}
